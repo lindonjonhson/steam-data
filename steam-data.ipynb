{
 "cells": [
  {
   "cell_type": "markdown",
   "metadata": {},
   "source": [
    "#   Introduction\n",
    "The gaming industry has reached a revenue stream of 138 billion dollars in 2021 and it's value keeps growing everyday. About 20 years ago, gaming was seen as hobby strictly for kids and now big companies finally realized it's potential and started investing hard on what is known to be one of the greatest entertainment industries of the 21ts century.\n",
    "Amongst these companies, Valve is know for being one of the main players in the market not just due to the games they developed, but also because of their platform, Steam, which is the main gaming platform in the world with more 500,000 active players everyday.\n",
    "Due to that I obtained from kaggle a dataset that contained data about users, the games they owned and the amount of hours played in those games. My main objective is to try to obtain any interesting insights based on the data, such as the most popular games, based on how many people have them and based on the amount of hours and also, see the amount of hours spent in those games.\n",
    "\n",
    "\n",
    "##  Data Dictionary\n",
    "\n",
    "|Columns|Column Names|Qualitative/Quantitative|Categorical/Disc/Cont|Data Type|Definition of variable|\n",
    "|-----|-----|-----|-----|-----|-----|\n",
    "|A|steam_id|Numerical|NA|Integer|Id of the user|\n",
    "|B|game_name|Qualitative|Categorical|String|Name of the game|\n",
    "|C|purchase_or_play|Qualitative|Categorical|String|If that entry is related to a purchase or the amount of hours played|\n",
    "|D|hours_played|Quantitative|Continuous|Float|The amount of hours played and in case it is assigned to \"purchase\" column, the value will be 1, but it doesn't mean it has been played for an hour|\n",
    "|E|release_date|Date|Date|Date|Date the game was released|\n",
    "|F|developer|Qualitative|Categorical|String|Company that developed the game|\n",
    "|G|publisher|Qualitative|Categorical|String|Company responsible by the game's distribution|\n",
    "|H|platforms|Qualitative|Categorical|String|Which kind of computer the game can be played|\n",
    "|I|genres|Qualitative|Categorical|String|Genre of the game|\n",
    "|I|price|Quantitative|Continuous|Float|Game price|"
   ]
  },
  {
   "cell_type": "markdown",
   "metadata": {},
   "source": [
    "##  Exploring the dataset\n",
    "\n",
    "Importing basic libraries."
   ]
  },
  {
   "cell_type": "code",
   "execution_count": 1,
   "metadata": {},
   "outputs": [],
   "source": [
    "#   Importing basic libraries\n",
    "\n",
    "import pandas as pd\n",
    "import numpy as np\n",
    "import seaborn as sns\n",
    "import matplotlib.pyplot as plt"
   ]
  },
  {
   "cell_type": "markdown",
   "metadata": {},
   "source": [
    "Importing the dataset and getting the types of data."
   ]
  },
  {
   "cell_type": "code",
   "execution_count": 2,
   "metadata": {},
   "outputs": [
    {
     "name": "stdout",
     "output_type": "stream",
     "text": [
      "<class 'pandas.core.frame.DataFrame'>\n",
      "RangeIndex: 200059 entries, 0 to 200058\n",
      "Data columns (total 11 columns):\n",
      " #   Column            Non-Null Count   Dtype  \n",
      "---  ------            --------------   -----  \n",
      " 0   Unnamed: 0        200059 non-null  int64  \n",
      " 1   steam_id          200059 non-null  int64  \n",
      " 2   game_name         200059 non-null  object \n",
      " 3   purchase_or_play  200059 non-null  object \n",
      " 4   hours_played      200059 non-null  float64\n",
      " 5   release_date      117871 non-null  object \n",
      " 6   developer         117871 non-null  object \n",
      " 7   publisher         117871 non-null  object \n",
      " 8   platforms         117871 non-null  object \n",
      " 9   genres            117871 non-null  object \n",
      " 10  price             117871 non-null  float64\n",
      "dtypes: float64(2), int64(2), object(7)\n",
      "memory usage: 16.8+ MB\n"
     ]
    }
   ],
   "source": [
    "#   Importing the dataset\n",
    "\n",
    "df_raw = pd.read_csv('data/steam_games.csv')\n",
    "\n",
    "#   Getting the types of data\n",
    "\n",
    "df_raw.info()"
   ]
  },
  {
   "cell_type": "markdown",
   "metadata": {},
   "source": [
    "Checking the first entries."
   ]
  },
  {
   "cell_type": "code",
   "execution_count": 3,
   "metadata": {},
   "outputs": [
    {
     "data": {
      "text/html": [
       "<div>\n",
       "<style scoped>\n",
       "    .dataframe tbody tr th:only-of-type {\n",
       "        vertical-align: middle;\n",
       "    }\n",
       "\n",
       "    .dataframe tbody tr th {\n",
       "        vertical-align: top;\n",
       "    }\n",
       "\n",
       "    .dataframe thead th {\n",
       "        text-align: right;\n",
       "    }\n",
       "</style>\n",
       "<table border=\"1\" class=\"dataframe\">\n",
       "  <thead>\n",
       "    <tr style=\"text-align: right;\">\n",
       "      <th></th>\n",
       "      <th>Unnamed: 0</th>\n",
       "      <th>steam_id</th>\n",
       "      <th>game_name</th>\n",
       "      <th>purchase_or_play</th>\n",
       "      <th>hours_played</th>\n",
       "      <th>release_date</th>\n",
       "      <th>developer</th>\n",
       "      <th>publisher</th>\n",
       "      <th>platforms</th>\n",
       "      <th>genres</th>\n",
       "      <th>price</th>\n",
       "    </tr>\n",
       "  </thead>\n",
       "  <tbody>\n",
       "    <tr>\n",
       "      <th>0</th>\n",
       "      <td>0</td>\n",
       "      <td>151603712</td>\n",
       "      <td>The Elder Scrolls V Skyrim</td>\n",
       "      <td>purchase</td>\n",
       "      <td>1.0</td>\n",
       "      <td>10/11/2011</td>\n",
       "      <td>Bethesda Game Studios</td>\n",
       "      <td>Bethesda Softworks</td>\n",
       "      <td>windows</td>\n",
       "      <td>RPG</td>\n",
       "      <td>9.99</td>\n",
       "    </tr>\n",
       "    <tr>\n",
       "      <th>1</th>\n",
       "      <td>1</td>\n",
       "      <td>151603712</td>\n",
       "      <td>The Elder Scrolls V Skyrim</td>\n",
       "      <td>play</td>\n",
       "      <td>273.0</td>\n",
       "      <td>10/11/2011</td>\n",
       "      <td>Bethesda Game Studios</td>\n",
       "      <td>Bethesda Softworks</td>\n",
       "      <td>windows</td>\n",
       "      <td>RPG</td>\n",
       "      <td>9.99</td>\n",
       "    </tr>\n",
       "    <tr>\n",
       "      <th>2</th>\n",
       "      <td>2</td>\n",
       "      <td>151603712</td>\n",
       "      <td>Fallout 4</td>\n",
       "      <td>purchase</td>\n",
       "      <td>1.0</td>\n",
       "      <td>09/11/2015</td>\n",
       "      <td>Bethesda Game Studios</td>\n",
       "      <td>Bethesda Softworks</td>\n",
       "      <td>windows</td>\n",
       "      <td>RPG</td>\n",
       "      <td>19.99</td>\n",
       "    </tr>\n",
       "    <tr>\n",
       "      <th>3</th>\n",
       "      <td>3</td>\n",
       "      <td>151603712</td>\n",
       "      <td>Fallout 4</td>\n",
       "      <td>play</td>\n",
       "      <td>87.0</td>\n",
       "      <td>09/11/2015</td>\n",
       "      <td>Bethesda Game Studios</td>\n",
       "      <td>Bethesda Softworks</td>\n",
       "      <td>windows</td>\n",
       "      <td>RPG</td>\n",
       "      <td>19.99</td>\n",
       "    </tr>\n",
       "    <tr>\n",
       "      <th>4</th>\n",
       "      <td>4</td>\n",
       "      <td>151603712</td>\n",
       "      <td>Spore</td>\n",
       "      <td>purchase</td>\n",
       "      <td>1.0</td>\n",
       "      <td>19/12/2008</td>\n",
       "      <td>Maxis</td>\n",
       "      <td>Electronic Arts</td>\n",
       "      <td>windows</td>\n",
       "      <td>Simulation</td>\n",
       "      <td>14.99</td>\n",
       "    </tr>\n",
       "  </tbody>\n",
       "</table>\n",
       "</div>"
      ],
      "text/plain": [
       "   Unnamed: 0   steam_id                   game_name purchase_or_play  \\\n",
       "0           0  151603712  The Elder Scrolls V Skyrim         purchase   \n",
       "1           1  151603712  The Elder Scrolls V Skyrim             play   \n",
       "2           2  151603712                   Fallout 4         purchase   \n",
       "3           3  151603712                   Fallout 4             play   \n",
       "4           4  151603712                       Spore         purchase   \n",
       "\n",
       "   hours_played release_date              developer           publisher  \\\n",
       "0           1.0   10/11/2011  Bethesda Game Studios  Bethesda Softworks   \n",
       "1         273.0   10/11/2011  Bethesda Game Studios  Bethesda Softworks   \n",
       "2           1.0   09/11/2015  Bethesda Game Studios  Bethesda Softworks   \n",
       "3          87.0   09/11/2015  Bethesda Game Studios  Bethesda Softworks   \n",
       "4           1.0   19/12/2008                  Maxis     Electronic Arts   \n",
       "\n",
       "  platforms      genres  price  \n",
       "0   windows         RPG   9.99  \n",
       "1   windows         RPG   9.99  \n",
       "2   windows         RPG  19.99  \n",
       "3   windows         RPG  19.99  \n",
       "4   windows  Simulation  14.99  "
      ]
     },
     "execution_count": 3,
     "metadata": {},
     "output_type": "execute_result"
    }
   ],
   "source": [
    "#   Checking the first entries\n",
    "\n",
    "df_raw.head()"
   ]
  },
  {
   "cell_type": "markdown",
   "metadata": {},
   "source": [
    "Dropping unnecessary columns."
   ]
  },
  {
   "cell_type": "code",
   "execution_count": 4,
   "metadata": {},
   "outputs": [],
   "source": [
    "#   Dropping unnecessary columns\n",
    "\n",
    "df_raw = df_raw.drop(['release_date', 'platforms'], axis=1)"
   ]
  },
  {
   "cell_type": "markdown",
   "metadata": {},
   "source": [
    "If the game was purchased, the dataset would show it as if it had been played for a hour.<br>\n",
    "Now I want to change that and in the hours played for the games that are bought, we will put 0, because they haven't been played. "
   ]
  },
  {
   "cell_type": "code",
   "execution_count": 5,
   "metadata": {},
   "outputs": [
    {
     "data": {
      "text/html": [
       "<div>\n",
       "<style scoped>\n",
       "    .dataframe tbody tr th:only-of-type {\n",
       "        vertical-align: middle;\n",
       "    }\n",
       "\n",
       "    .dataframe tbody tr th {\n",
       "        vertical-align: top;\n",
       "    }\n",
       "\n",
       "    .dataframe thead th {\n",
       "        text-align: right;\n",
       "    }\n",
       "</style>\n",
       "<table border=\"1\" class=\"dataframe\">\n",
       "  <thead>\n",
       "    <tr style=\"text-align: right;\">\n",
       "      <th></th>\n",
       "      <th>Unnamed: 0</th>\n",
       "      <th>steam_id</th>\n",
       "      <th>game_name</th>\n",
       "      <th>purchase_or_play</th>\n",
       "      <th>hours_played</th>\n",
       "      <th>developer</th>\n",
       "      <th>publisher</th>\n",
       "      <th>genres</th>\n",
       "      <th>price</th>\n",
       "    </tr>\n",
       "  </thead>\n",
       "  <tbody>\n",
       "    <tr>\n",
       "      <th>0</th>\n",
       "      <td>0</td>\n",
       "      <td>151603712</td>\n",
       "      <td>The Elder Scrolls V Skyrim</td>\n",
       "      <td>purchase</td>\n",
       "      <td>0.0</td>\n",
       "      <td>Bethesda Game Studios</td>\n",
       "      <td>Bethesda Softworks</td>\n",
       "      <td>RPG</td>\n",
       "      <td>9.99</td>\n",
       "    </tr>\n",
       "    <tr>\n",
       "      <th>1</th>\n",
       "      <td>1</td>\n",
       "      <td>151603712</td>\n",
       "      <td>The Elder Scrolls V Skyrim</td>\n",
       "      <td>play</td>\n",
       "      <td>273.0</td>\n",
       "      <td>Bethesda Game Studios</td>\n",
       "      <td>Bethesda Softworks</td>\n",
       "      <td>RPG</td>\n",
       "      <td>9.99</td>\n",
       "    </tr>\n",
       "    <tr>\n",
       "      <th>2</th>\n",
       "      <td>2</td>\n",
       "      <td>151603712</td>\n",
       "      <td>Fallout 4</td>\n",
       "      <td>purchase</td>\n",
       "      <td>0.0</td>\n",
       "      <td>Bethesda Game Studios</td>\n",
       "      <td>Bethesda Softworks</td>\n",
       "      <td>RPG</td>\n",
       "      <td>19.99</td>\n",
       "    </tr>\n",
       "    <tr>\n",
       "      <th>3</th>\n",
       "      <td>3</td>\n",
       "      <td>151603712</td>\n",
       "      <td>Fallout 4</td>\n",
       "      <td>play</td>\n",
       "      <td>87.0</td>\n",
       "      <td>Bethesda Game Studios</td>\n",
       "      <td>Bethesda Softworks</td>\n",
       "      <td>RPG</td>\n",
       "      <td>19.99</td>\n",
       "    </tr>\n",
       "    <tr>\n",
       "      <th>4</th>\n",
       "      <td>4</td>\n",
       "      <td>151603712</td>\n",
       "      <td>Spore</td>\n",
       "      <td>purchase</td>\n",
       "      <td>0.0</td>\n",
       "      <td>Maxis</td>\n",
       "      <td>Electronic Arts</td>\n",
       "      <td>Simulation</td>\n",
       "      <td>14.99</td>\n",
       "    </tr>\n",
       "  </tbody>\n",
       "</table>\n",
       "</div>"
      ],
      "text/plain": [
       "   Unnamed: 0   steam_id                   game_name purchase_or_play  \\\n",
       "0           0  151603712  The Elder Scrolls V Skyrim         purchase   \n",
       "1           1  151603712  The Elder Scrolls V Skyrim             play   \n",
       "2           2  151603712                   Fallout 4         purchase   \n",
       "3           3  151603712                   Fallout 4             play   \n",
       "4           4  151603712                       Spore         purchase   \n",
       "\n",
       "   hours_played              developer           publisher      genres  price  \n",
       "0           0.0  Bethesda Game Studios  Bethesda Softworks         RPG   9.99  \n",
       "1         273.0  Bethesda Game Studios  Bethesda Softworks         RPG   9.99  \n",
       "2           0.0  Bethesda Game Studios  Bethesda Softworks         RPG  19.99  \n",
       "3          87.0  Bethesda Game Studios  Bethesda Softworks         RPG  19.99  \n",
       "4           0.0                  Maxis     Electronic Arts  Simulation  14.99  "
      ]
     },
     "execution_count": 5,
     "metadata": {},
     "output_type": "execute_result"
    }
   ],
   "source": [
    "df_raw['hours_played'] = np.where(df_raw['purchase_or_play']=='purchase', 0, df_raw['hours_played'])\n",
    "df_raw.head()"
   ]
  },
  {
   "cell_type": "markdown",
   "metadata": {},
   "source": [
    "The next step is, unify the 'purchase' and 'play' values because I don't want 2 rows for the same game.<br>\n",
    "I want to have only the 'steam_id', 'game_name' and 'hours_played', but I can't just delete the 'purchase' rows, because some games are just owned and not played.<br>\n",
    "I can separate the purchase and play entries in different datasets and then join the tables on steam_id and game_name.\n",
    "\n",
    "Now I will create a dataframe only with the purchase data and since the hours played for the purchased games has been set to 0, I can drop this column."
   ]
  },
  {
   "cell_type": "code",
   "execution_count": 6,
   "metadata": {},
   "outputs": [
    {
     "data": {
      "text/html": [
       "<div>\n",
       "<style scoped>\n",
       "    .dataframe tbody tr th:only-of-type {\n",
       "        vertical-align: middle;\n",
       "    }\n",
       "\n",
       "    .dataframe tbody tr th {\n",
       "        vertical-align: top;\n",
       "    }\n",
       "\n",
       "    .dataframe thead th {\n",
       "        text-align: right;\n",
       "    }\n",
       "</style>\n",
       "<table border=\"1\" class=\"dataframe\">\n",
       "  <thead>\n",
       "    <tr style=\"text-align: right;\">\n",
       "      <th></th>\n",
       "      <th>Unnamed: 0</th>\n",
       "      <th>steam_id</th>\n",
       "      <th>game_name</th>\n",
       "      <th>purchase_or_play</th>\n",
       "      <th>developer</th>\n",
       "      <th>publisher</th>\n",
       "      <th>genres</th>\n",
       "      <th>price</th>\n",
       "    </tr>\n",
       "  </thead>\n",
       "  <tbody>\n",
       "    <tr>\n",
       "      <th>0</th>\n",
       "      <td>0</td>\n",
       "      <td>151603712</td>\n",
       "      <td>The Elder Scrolls V Skyrim</td>\n",
       "      <td>purchase</td>\n",
       "      <td>Bethesda Game Studios</td>\n",
       "      <td>Bethesda Softworks</td>\n",
       "      <td>RPG</td>\n",
       "      <td>9.99</td>\n",
       "    </tr>\n",
       "    <tr>\n",
       "      <th>2</th>\n",
       "      <td>2</td>\n",
       "      <td>151603712</td>\n",
       "      <td>Fallout 4</td>\n",
       "      <td>purchase</td>\n",
       "      <td>Bethesda Game Studios</td>\n",
       "      <td>Bethesda Softworks</td>\n",
       "      <td>RPG</td>\n",
       "      <td>19.99</td>\n",
       "    </tr>\n",
       "    <tr>\n",
       "      <th>4</th>\n",
       "      <td>4</td>\n",
       "      <td>151603712</td>\n",
       "      <td>Spore</td>\n",
       "      <td>purchase</td>\n",
       "      <td>Maxis</td>\n",
       "      <td>Electronic Arts</td>\n",
       "      <td>Simulation</td>\n",
       "      <td>14.99</td>\n",
       "    </tr>\n",
       "    <tr>\n",
       "      <th>6</th>\n",
       "      <td>6</td>\n",
       "      <td>151603712</td>\n",
       "      <td>Fallout New Vegas</td>\n",
       "      <td>purchase</td>\n",
       "      <td>Obsidian Entertainment</td>\n",
       "      <td>Bethesda Softworks</td>\n",
       "      <td>Action;RPG</td>\n",
       "      <td>7.99</td>\n",
       "    </tr>\n",
       "    <tr>\n",
       "      <th>8</th>\n",
       "      <td>8</td>\n",
       "      <td>151603712</td>\n",
       "      <td>Left 4 Dead 2</td>\n",
       "      <td>purchase</td>\n",
       "      <td>Valve</td>\n",
       "      <td>Valve</td>\n",
       "      <td>Action</td>\n",
       "      <td>7.19</td>\n",
       "    </tr>\n",
       "  </tbody>\n",
       "</table>\n",
       "</div>"
      ],
      "text/plain": [
       "   Unnamed: 0   steam_id                   game_name purchase_or_play  \\\n",
       "0           0  151603712  The Elder Scrolls V Skyrim         purchase   \n",
       "2           2  151603712                   Fallout 4         purchase   \n",
       "4           4  151603712                       Spore         purchase   \n",
       "6           6  151603712           Fallout New Vegas         purchase   \n",
       "8           8  151603712               Left 4 Dead 2         purchase   \n",
       "\n",
       "                developer           publisher      genres  price  \n",
       "0   Bethesda Game Studios  Bethesda Softworks         RPG   9.99  \n",
       "2   Bethesda Game Studios  Bethesda Softworks         RPG  19.99  \n",
       "4                   Maxis     Electronic Arts  Simulation  14.99  \n",
       "6  Obsidian Entertainment  Bethesda Softworks  Action;RPG   7.99  \n",
       "8                   Valve               Valve      Action   7.19  "
      ]
     },
     "execution_count": 6,
     "metadata": {},
     "output_type": "execute_result"
    }
   ],
   "source": [
    "df_purchase = df_raw.loc[df_raw['purchase_or_play']=='purchase']\n",
    "df_purchase = df_purchase.drop(['hours_played'], axis=1)\n",
    "df_purchase.head()"
   ]
  },
  {
   "cell_type": "markdown",
   "metadata": {},
   "source": [
    "And here I will create a dataframe with the hours played."
   ]
  },
  {
   "cell_type": "code",
   "execution_count": 7,
   "metadata": {},
   "outputs": [
    {
     "data": {
      "text/html": [
       "<div>\n",
       "<style scoped>\n",
       "    .dataframe tbody tr th:only-of-type {\n",
       "        vertical-align: middle;\n",
       "    }\n",
       "\n",
       "    .dataframe tbody tr th {\n",
       "        vertical-align: top;\n",
       "    }\n",
       "\n",
       "    .dataframe thead th {\n",
       "        text-align: right;\n",
       "    }\n",
       "</style>\n",
       "<table border=\"1\" class=\"dataframe\">\n",
       "  <thead>\n",
       "    <tr style=\"text-align: right;\">\n",
       "      <th></th>\n",
       "      <th>Unnamed: 0</th>\n",
       "      <th>steam_id</th>\n",
       "      <th>game_name</th>\n",
       "      <th>purchase_or_play</th>\n",
       "      <th>hours_played</th>\n",
       "      <th>developer</th>\n",
       "      <th>publisher</th>\n",
       "      <th>genres</th>\n",
       "      <th>price</th>\n",
       "    </tr>\n",
       "  </thead>\n",
       "  <tbody>\n",
       "    <tr>\n",
       "      <th>1</th>\n",
       "      <td>1</td>\n",
       "      <td>151603712</td>\n",
       "      <td>The Elder Scrolls V Skyrim</td>\n",
       "      <td>play</td>\n",
       "      <td>273.0</td>\n",
       "      <td>Bethesda Game Studios</td>\n",
       "      <td>Bethesda Softworks</td>\n",
       "      <td>RPG</td>\n",
       "      <td>9.99</td>\n",
       "    </tr>\n",
       "    <tr>\n",
       "      <th>3</th>\n",
       "      <td>3</td>\n",
       "      <td>151603712</td>\n",
       "      <td>Fallout 4</td>\n",
       "      <td>play</td>\n",
       "      <td>87.0</td>\n",
       "      <td>Bethesda Game Studios</td>\n",
       "      <td>Bethesda Softworks</td>\n",
       "      <td>RPG</td>\n",
       "      <td>19.99</td>\n",
       "    </tr>\n",
       "    <tr>\n",
       "      <th>5</th>\n",
       "      <td>5</td>\n",
       "      <td>151603712</td>\n",
       "      <td>Spore</td>\n",
       "      <td>play</td>\n",
       "      <td>14.9</td>\n",
       "      <td>Maxis</td>\n",
       "      <td>Electronic Arts</td>\n",
       "      <td>Simulation</td>\n",
       "      <td>14.99</td>\n",
       "    </tr>\n",
       "    <tr>\n",
       "      <th>7</th>\n",
       "      <td>7</td>\n",
       "      <td>151603712</td>\n",
       "      <td>Fallout New Vegas</td>\n",
       "      <td>play</td>\n",
       "      <td>12.1</td>\n",
       "      <td>Obsidian Entertainment</td>\n",
       "      <td>Bethesda Softworks</td>\n",
       "      <td>Action;RPG</td>\n",
       "      <td>7.99</td>\n",
       "    </tr>\n",
       "    <tr>\n",
       "      <th>9</th>\n",
       "      <td>9</td>\n",
       "      <td>151603712</td>\n",
       "      <td>Left 4 Dead 2</td>\n",
       "      <td>play</td>\n",
       "      <td>8.9</td>\n",
       "      <td>Valve</td>\n",
       "      <td>Valve</td>\n",
       "      <td>Action</td>\n",
       "      <td>7.19</td>\n",
       "    </tr>\n",
       "  </tbody>\n",
       "</table>\n",
       "</div>"
      ],
      "text/plain": [
       "   Unnamed: 0   steam_id                   game_name purchase_or_play  \\\n",
       "1           1  151603712  The Elder Scrolls V Skyrim             play   \n",
       "3           3  151603712                   Fallout 4             play   \n",
       "5           5  151603712                       Spore             play   \n",
       "7           7  151603712           Fallout New Vegas             play   \n",
       "9           9  151603712               Left 4 Dead 2             play   \n",
       "\n",
       "   hours_played               developer           publisher      genres  price  \n",
       "1         273.0   Bethesda Game Studios  Bethesda Softworks         RPG   9.99  \n",
       "3          87.0   Bethesda Game Studios  Bethesda Softworks         RPG  19.99  \n",
       "5          14.9                   Maxis     Electronic Arts  Simulation  14.99  \n",
       "7          12.1  Obsidian Entertainment  Bethesda Softworks  Action;RPG   7.99  \n",
       "9           8.9                   Valve               Valve      Action   7.19  "
      ]
     },
     "execution_count": 7,
     "metadata": {},
     "output_type": "execute_result"
    }
   ],
   "source": [
    "#   Creating the dataframe with the hours played\n",
    "\n",
    "df_play = df_raw.loc[df_raw['purchase_or_play']=='play']\n",
    "df_play.head()"
   ]
  },
  {
   "cell_type": "markdown",
   "metadata": {},
   "source": [
    "Now, to create the definitive dataframe that I need, I will join both columns based on the 'steam_id' and the 'game_name' and then eliminate the 'purchase_or_play' columns."
   ]
  },
  {
   "cell_type": "code",
   "execution_count": 8,
   "metadata": {},
   "outputs": [
    {
     "data": {
      "text/html": [
       "<div>\n",
       "<style scoped>\n",
       "    .dataframe tbody tr th:only-of-type {\n",
       "        vertical-align: middle;\n",
       "    }\n",
       "\n",
       "    .dataframe tbody tr th {\n",
       "        vertical-align: top;\n",
       "    }\n",
       "\n",
       "    .dataframe thead th {\n",
       "        text-align: right;\n",
       "    }\n",
       "</style>\n",
       "<table border=\"1\" class=\"dataframe\">\n",
       "  <thead>\n",
       "    <tr style=\"text-align: right;\">\n",
       "      <th></th>\n",
       "      <th>steam_id</th>\n",
       "      <th>game_name</th>\n",
       "      <th>developer_x</th>\n",
       "      <th>publisher_x</th>\n",
       "      <th>genres_x</th>\n",
       "      <th>price_x</th>\n",
       "      <th>hours_played</th>\n",
       "    </tr>\n",
       "  </thead>\n",
       "  <tbody>\n",
       "    <tr>\n",
       "      <th>0</th>\n",
       "      <td>151603712</td>\n",
       "      <td>The Elder Scrolls V Skyrim</td>\n",
       "      <td>Bethesda Game Studios</td>\n",
       "      <td>Bethesda Softworks</td>\n",
       "      <td>RPG</td>\n",
       "      <td>9.99</td>\n",
       "      <td>273.0</td>\n",
       "    </tr>\n",
       "    <tr>\n",
       "      <th>1</th>\n",
       "      <td>151603712</td>\n",
       "      <td>Fallout 4</td>\n",
       "      <td>Bethesda Game Studios</td>\n",
       "      <td>Bethesda Softworks</td>\n",
       "      <td>RPG</td>\n",
       "      <td>19.99</td>\n",
       "      <td>87.0</td>\n",
       "    </tr>\n",
       "    <tr>\n",
       "      <th>2</th>\n",
       "      <td>151603712</td>\n",
       "      <td>Spore</td>\n",
       "      <td>Maxis</td>\n",
       "      <td>Electronic Arts</td>\n",
       "      <td>Simulation</td>\n",
       "      <td>14.99</td>\n",
       "      <td>14.9</td>\n",
       "    </tr>\n",
       "    <tr>\n",
       "      <th>3</th>\n",
       "      <td>151603712</td>\n",
       "      <td>Fallout New Vegas</td>\n",
       "      <td>Obsidian Entertainment</td>\n",
       "      <td>Bethesda Softworks</td>\n",
       "      <td>Action;RPG</td>\n",
       "      <td>7.99</td>\n",
       "      <td>12.1</td>\n",
       "    </tr>\n",
       "    <tr>\n",
       "      <th>4</th>\n",
       "      <td>151603712</td>\n",
       "      <td>Left 4 Dead 2</td>\n",
       "      <td>Valve</td>\n",
       "      <td>Valve</td>\n",
       "      <td>Action</td>\n",
       "      <td>7.19</td>\n",
       "      <td>8.9</td>\n",
       "    </tr>\n",
       "  </tbody>\n",
       "</table>\n",
       "</div>"
      ],
      "text/plain": [
       "    steam_id                   game_name             developer_x  \\\n",
       "0  151603712  The Elder Scrolls V Skyrim   Bethesda Game Studios   \n",
       "1  151603712                   Fallout 4   Bethesda Game Studios   \n",
       "2  151603712                       Spore                   Maxis   \n",
       "3  151603712           Fallout New Vegas  Obsidian Entertainment   \n",
       "4  151603712               Left 4 Dead 2                   Valve   \n",
       "\n",
       "          publisher_x    genres_x  price_x  hours_played  \n",
       "0  Bethesda Softworks         RPG     9.99         273.0  \n",
       "1  Bethesda Softworks         RPG    19.99          87.0  \n",
       "2     Electronic Arts  Simulation    14.99          14.9  \n",
       "3  Bethesda Softworks  Action;RPG     7.99          12.1  \n",
       "4               Valve      Action     7.19           8.9  "
      ]
     },
     "execution_count": 8,
     "metadata": {},
     "output_type": "execute_result"
    }
   ],
   "source": [
    "#   Joining both columns based on the steam_id and the game_name\n",
    "\n",
    "df_def = pd.merge(df_purchase, df_play, how='left', left_on=['steam_id', 'game_name'], right_on=['steam_id', 'game_name'])\n",
    "\n",
    "#   Since we have united the purchase and play entries, we can eliminate those columns\n",
    "df_def = df_def.drop(['purchase_or_play_x', 'purchase_or_play_y', 'Unnamed: 0_x', 'developer_y', 'publisher_y', 'Unnamed: 0_y', 'genres_y', 'price_y'], axis=1)\n",
    "\n",
    "df_def.head()"
   ]
  },
  {
   "cell_type": "markdown",
   "metadata": {},
   "source": [
    "Checking the amount of rows that we have, which is 129607."
   ]
  },
  {
   "cell_type": "code",
   "execution_count": 9,
   "metadata": {},
   "outputs": [
    {
     "data": {
      "text/plain": [
       "(129607, 7)"
      ]
     },
     "execution_count": 9,
     "metadata": {},
     "output_type": "execute_result"
    }
   ],
   "source": [
    "df_def.shape"
   ]
  },
  {
   "cell_type": "markdown",
   "metadata": {},
   "source": [
    "Since some games have never been played,  our dataset has NaNs and we need to replace them with 0, because it represents better the amount of hours we are working with.<br>\n",
    "It is better to replace NaNs with 0 than with their mean, median or mode because otherwise, it would create a false idea that the game have been played, which is not true and we want to have the data as accurate as possible."
   ]
  },
  {
   "cell_type": "code",
   "execution_count": 10,
   "metadata": {},
   "outputs": [],
   "source": [
    "#   Filling NaNs\n",
    "\n",
    "df_def['hours_played'] = df_def['hours_played'].fillna(0)"
   ]
  },
  {
   "cell_type": "markdown",
   "metadata": {},
   "source": [
    "### Now we have the dataset ready to go!"
   ]
  },
  {
   "cell_type": "code",
   "execution_count": 11,
   "metadata": {},
   "outputs": [
    {
     "data": {
      "text/html": [
       "<div>\n",
       "<style scoped>\n",
       "    .dataframe tbody tr th:only-of-type {\n",
       "        vertical-align: middle;\n",
       "    }\n",
       "\n",
       "    .dataframe tbody tr th {\n",
       "        vertical-align: top;\n",
       "    }\n",
       "\n",
       "    .dataframe thead th {\n",
       "        text-align: right;\n",
       "    }\n",
       "</style>\n",
       "<table border=\"1\" class=\"dataframe\">\n",
       "  <thead>\n",
       "    <tr style=\"text-align: right;\">\n",
       "      <th></th>\n",
       "      <th>steam_id</th>\n",
       "      <th>game_name</th>\n",
       "      <th>developer</th>\n",
       "      <th>publisher</th>\n",
       "      <th>genres</th>\n",
       "      <th>price</th>\n",
       "      <th>hours_played</th>\n",
       "    </tr>\n",
       "  </thead>\n",
       "  <tbody>\n",
       "    <tr>\n",
       "      <th>0</th>\n",
       "      <td>151603712</td>\n",
       "      <td>The Elder Scrolls V Skyrim</td>\n",
       "      <td>Bethesda Game Studios</td>\n",
       "      <td>Bethesda Softworks</td>\n",
       "      <td>RPG</td>\n",
       "      <td>9.99</td>\n",
       "      <td>273.0</td>\n",
       "    </tr>\n",
       "    <tr>\n",
       "      <th>1</th>\n",
       "      <td>151603712</td>\n",
       "      <td>Fallout 4</td>\n",
       "      <td>Bethesda Game Studios</td>\n",
       "      <td>Bethesda Softworks</td>\n",
       "      <td>RPG</td>\n",
       "      <td>19.99</td>\n",
       "      <td>87.0</td>\n",
       "    </tr>\n",
       "    <tr>\n",
       "      <th>2</th>\n",
       "      <td>151603712</td>\n",
       "      <td>Spore</td>\n",
       "      <td>Maxis</td>\n",
       "      <td>Electronic Arts</td>\n",
       "      <td>Simulation</td>\n",
       "      <td>14.99</td>\n",
       "      <td>14.9</td>\n",
       "    </tr>\n",
       "    <tr>\n",
       "      <th>3</th>\n",
       "      <td>151603712</td>\n",
       "      <td>Fallout New Vegas</td>\n",
       "      <td>Obsidian Entertainment</td>\n",
       "      <td>Bethesda Softworks</td>\n",
       "      <td>Action;RPG</td>\n",
       "      <td>7.99</td>\n",
       "      <td>12.1</td>\n",
       "    </tr>\n",
       "    <tr>\n",
       "      <th>4</th>\n",
       "      <td>151603712</td>\n",
       "      <td>Left 4 Dead 2</td>\n",
       "      <td>Valve</td>\n",
       "      <td>Valve</td>\n",
       "      <td>Action</td>\n",
       "      <td>7.19</td>\n",
       "      <td>8.9</td>\n",
       "    </tr>\n",
       "  </tbody>\n",
       "</table>\n",
       "</div>"
      ],
      "text/plain": [
       "    steam_id                   game_name               developer  \\\n",
       "0  151603712  The Elder Scrolls V Skyrim   Bethesda Game Studios   \n",
       "1  151603712                   Fallout 4   Bethesda Game Studios   \n",
       "2  151603712                       Spore                   Maxis   \n",
       "3  151603712           Fallout New Vegas  Obsidian Entertainment   \n",
       "4  151603712               Left 4 Dead 2                   Valve   \n",
       "\n",
       "            publisher      genres  price  hours_played  \n",
       "0  Bethesda Softworks         RPG   9.99         273.0  \n",
       "1  Bethesda Softworks         RPG  19.99          87.0  \n",
       "2     Electronic Arts  Simulation  14.99          14.9  \n",
       "3  Bethesda Softworks  Action;RPG   7.99          12.1  \n",
       "4               Valve      Action   7.19           8.9  "
      ]
     },
     "execution_count": 11,
     "metadata": {},
     "output_type": "execute_result"
    }
   ],
   "source": [
    "#   Now we have the dataset ready to go!\n",
    "df_def = df_def.rename(columns={'developer_x': 'developer', 'publisher_x': 'publisher', 'genres_x': 'genres', 'price_x': 'price'})\n",
    "df_def.head()"
   ]
  },
  {
   "cell_type": "markdown",
   "metadata": {},
   "source": [
    "## Useful Queries"
   ]
  },
  {
   "cell_type": "markdown",
   "metadata": {},
   "source": [
    "### Game most played based in time"
   ]
  },
  {
   "cell_type": "markdown",
   "metadata": {},
   "source": [
    "Here are some useful queries for our dataset, the one below allows us to see the games based on the amount of time played.<br>\n",
    "To do that, we are grouping by the game name, adding the hours played and sorting based on the most played first.<br>\n",
    "Using the method '.shape', we can see that there is a total of 5155 games in the dataset."
   ]
  },
  {
   "cell_type": "code",
   "execution_count": 12,
   "metadata": {},
   "outputs": [
    {
     "data": {
      "text/html": [
       "<div>\n",
       "<style scoped>\n",
       "    .dataframe tbody tr th:only-of-type {\n",
       "        vertical-align: middle;\n",
       "    }\n",
       "\n",
       "    .dataframe tbody tr th {\n",
       "        vertical-align: top;\n",
       "    }\n",
       "\n",
       "    .dataframe thead th {\n",
       "        text-align: right;\n",
       "    }\n",
       "</style>\n",
       "<table border=\"1\" class=\"dataframe\">\n",
       "  <thead>\n",
       "    <tr style=\"text-align: right;\">\n",
       "      <th></th>\n",
       "      <th>game_name</th>\n",
       "      <th>hours_played</th>\n",
       "    </tr>\n",
       "  </thead>\n",
       "  <tbody>\n",
       "    <tr>\n",
       "      <th>1336</th>\n",
       "      <td>Dota 2</td>\n",
       "      <td>981684.6</td>\n",
       "    </tr>\n",
       "    <tr>\n",
       "      <th>981</th>\n",
       "      <td>Counter-Strike Global Offensive</td>\n",
       "      <td>322771.6</td>\n",
       "    </tr>\n",
       "    <tr>\n",
       "      <th>4257</th>\n",
       "      <td>Team Fortress 2</td>\n",
       "      <td>173673.3</td>\n",
       "    </tr>\n",
       "    <tr>\n",
       "      <th>978</th>\n",
       "      <td>Counter-Strike</td>\n",
       "      <td>134261.1</td>\n",
       "    </tr>\n",
       "    <tr>\n",
       "      <th>3825</th>\n",
       "      <td>Sid Meier's Civilization V</td>\n",
       "      <td>99821.3</td>\n",
       "    </tr>\n",
       "  </tbody>\n",
       "</table>\n",
       "</div>"
      ],
      "text/plain": [
       "                            game_name  hours_played\n",
       "1336                           Dota 2      981684.6\n",
       "981   Counter-Strike Global Offensive      322771.6\n",
       "4257                  Team Fortress 2      173673.3\n",
       "978                    Counter-Strike      134261.1\n",
       "3825       Sid Meier's Civilization V       99821.3"
      ]
     },
     "execution_count": 12,
     "metadata": {},
     "output_type": "execute_result"
    }
   ],
   "source": [
    "#   For that I will need to groupby game, adding the hours played\n",
    "\n",
    "#   Here I am selecting the columns from 'game_name' till the end.\n",
    "df_hours_played = df_def.iloc[:, 1:]\n",
    "\n",
    "#   Grouping by the game name, adding the total of hours played and dropping the column price.\n",
    "df_hours_played = df_hours_played.groupby(['game_name'], as_index=False).sum().sort_values(by='hours_played', ascending=False ).drop(['price'], axis=1)\n",
    "df_hours_played.head()"
   ]
  },
  {
   "cell_type": "code",
   "execution_count": 13,
   "metadata": {},
   "outputs": [
    {
     "data": {
      "text/plain": [
       "(5155, 2)"
      ]
     },
     "execution_count": 13,
     "metadata": {},
     "output_type": "execute_result"
    }
   ],
   "source": [
    "df_hours_played.shape"
   ]
  },
  {
   "cell_type": "markdown",
   "metadata": {},
   "source": [
    "### Game most played based in amount of people"
   ]
  },
  {
   "cell_type": "markdown",
   "metadata": {},
   "source": [
    "Here we display the amount of people that has each game, and sorted it based on the game that most people have.<br>\n",
    "Using the method '.shape', we see that there are 5155, which is the same amount of games shown on the previous query, which means that the amount of games is correct!"
   ]
  },
  {
   "cell_type": "code",
   "execution_count": 14,
   "metadata": {},
   "outputs": [
    {
     "data": {
      "text/html": [
       "<div>\n",
       "<style scoped>\n",
       "    .dataframe tbody tr th:only-of-type {\n",
       "        vertical-align: middle;\n",
       "    }\n",
       "\n",
       "    .dataframe tbody tr th {\n",
       "        vertical-align: top;\n",
       "    }\n",
       "\n",
       "    .dataframe thead th {\n",
       "        text-align: right;\n",
       "    }\n",
       "</style>\n",
       "<table border=\"1\" class=\"dataframe\">\n",
       "  <thead>\n",
       "    <tr style=\"text-align: right;\">\n",
       "      <th></th>\n",
       "      <th>game_name</th>\n",
       "      <th>total_players</th>\n",
       "    </tr>\n",
       "  </thead>\n",
       "  <tbody>\n",
       "    <tr>\n",
       "      <th>1336</th>\n",
       "      <td>Dota 2</td>\n",
       "      <td>4841</td>\n",
       "    </tr>\n",
       "    <tr>\n",
       "      <th>4257</th>\n",
       "      <td>Team Fortress 2</td>\n",
       "      <td>2323</td>\n",
       "    </tr>\n",
       "    <tr>\n",
       "      <th>4788</th>\n",
       "      <td>Unturned</td>\n",
       "      <td>1563</td>\n",
       "    </tr>\n",
       "    <tr>\n",
       "      <th>981</th>\n",
       "      <td>Counter-Strike Global Offensive</td>\n",
       "      <td>1412</td>\n",
       "    </tr>\n",
       "    <tr>\n",
       "      <th>2074</th>\n",
       "      <td>Half-Life 2 Lost Coast</td>\n",
       "      <td>981</td>\n",
       "    </tr>\n",
       "  </tbody>\n",
       "</table>\n",
       "</div>"
      ],
      "text/plain": [
       "                            game_name  total_players\n",
       "1336                           Dota 2           4841\n",
       "4257                  Team Fortress 2           2323\n",
       "4788                         Unturned           1563\n",
       "981   Counter-Strike Global Offensive           1412\n",
       "2074           Half-Life 2 Lost Coast            981"
      ]
     },
     "execution_count": 14,
     "metadata": {},
     "output_type": "execute_result"
    }
   ],
   "source": [
    "#   GET THE GAME THAT MOST PEOPLE HAVE\n",
    "\n",
    "df_total_players = df_def.iloc[:, 0:-1]\n",
    "\n",
    "df_total_players = df_total_players.groupby(['game_name'], as_index=False).count().sort_values(by='steam_id', ascending=False ).drop([\n",
    "    'developer', 'publisher', 'genres', 'price'], axis=1)\n",
    "\n",
    "df_total_players = df_total_players.rename(columns={'steam_id': 'total_players'})\n",
    "\n",
    "df_total_players.head()"
   ]
  },
  {
   "cell_type": "code",
   "execution_count": 15,
   "metadata": {},
   "outputs": [
    {
     "data": {
      "text/plain": [
       "(5155, 2)"
      ]
     },
     "execution_count": 15,
     "metadata": {},
     "output_type": "execute_result"
    }
   ],
   "source": [
    "\n",
    "df_total_players.shape"
   ]
  },
  {
   "cell_type": "markdown",
   "metadata": {},
   "source": [
    "### Dataset containing the total amount of players and hours per game"
   ]
  },
  {
   "cell_type": "markdown",
   "metadata": {},
   "source": [
    "Uniting the 'total_players' and 'hours_played' datasets, this way we will know which games have been played by how many people and how many hours."
   ]
  },
  {
   "cell_type": "code",
   "execution_count": 16,
   "metadata": {},
   "outputs": [
    {
     "data": {
      "text/html": [
       "<div>\n",
       "<style scoped>\n",
       "    .dataframe tbody tr th:only-of-type {\n",
       "        vertical-align: middle;\n",
       "    }\n",
       "\n",
       "    .dataframe tbody tr th {\n",
       "        vertical-align: top;\n",
       "    }\n",
       "\n",
       "    .dataframe thead th {\n",
       "        text-align: right;\n",
       "    }\n",
       "</style>\n",
       "<table border=\"1\" class=\"dataframe\">\n",
       "  <thead>\n",
       "    <tr style=\"text-align: right;\">\n",
       "      <th></th>\n",
       "      <th>game_name</th>\n",
       "      <th>total_players</th>\n",
       "      <th>hours_played</th>\n",
       "    </tr>\n",
       "  </thead>\n",
       "  <tbody>\n",
       "    <tr>\n",
       "      <th>0</th>\n",
       "      <td>Dota 2</td>\n",
       "      <td>4841</td>\n",
       "      <td>981684.6</td>\n",
       "    </tr>\n",
       "    <tr>\n",
       "      <th>1</th>\n",
       "      <td>Team Fortress 2</td>\n",
       "      <td>2323</td>\n",
       "      <td>173673.3</td>\n",
       "    </tr>\n",
       "    <tr>\n",
       "      <th>2</th>\n",
       "      <td>Unturned</td>\n",
       "      <td>1563</td>\n",
       "      <td>16096.4</td>\n",
       "    </tr>\n",
       "    <tr>\n",
       "      <th>3</th>\n",
       "      <td>Counter-Strike Global Offensive</td>\n",
       "      <td>1412</td>\n",
       "      <td>322771.6</td>\n",
       "    </tr>\n",
       "    <tr>\n",
       "      <th>4</th>\n",
       "      <td>Half-Life 2 Lost Coast</td>\n",
       "      <td>981</td>\n",
       "      <td>184.4</td>\n",
       "    </tr>\n",
       "  </tbody>\n",
       "</table>\n",
       "</div>"
      ],
      "text/plain": [
       "                         game_name  total_players  hours_played\n",
       "0                           Dota 2           4841      981684.6\n",
       "1                  Team Fortress 2           2323      173673.3\n",
       "2                         Unturned           1563       16096.4\n",
       "3  Counter-Strike Global Offensive           1412      322771.6\n",
       "4           Half-Life 2 Lost Coast            981         184.4"
      ]
     },
     "execution_count": 16,
     "metadata": {},
     "output_type": "execute_result"
    }
   ],
   "source": [
    "#   Uniting the 'total_players' and 'hours_played' datasets and sorting them firstly based on the amount of players and then based on the amount of hours played.\n",
    "\n",
    "df_total = pd.merge(df_total_players, df_hours_played, how='left', left_on=['game_name'], right_on=['game_name']).sort_values(by=['total_players', 'hours_played'], ascending=False )\n",
    "df_total.head()"
   ]
  },
  {
   "cell_type": "markdown",
   "metadata": {},
   "source": [
    "Based on the data above, now can see what are the most popular games and track what is the average playing time for those games."
   ]
  },
  {
   "cell_type": "markdown",
   "metadata": {},
   "source": [
    "### Game specific data"
   ]
  },
  {
   "cell_type": "markdown",
   "metadata": {},
   "source": [
    "Here there is another query directed to searching data related to specific games, with it, you can find the players and the amount of hours each player spent in that game."
   ]
  },
  {
   "cell_type": "code",
   "execution_count": 17,
   "metadata": {},
   "outputs": [
    {
     "data": {
      "text/html": [
       "<div>\n",
       "<style scoped>\n",
       "    .dataframe tbody tr th:only-of-type {\n",
       "        vertical-align: middle;\n",
       "    }\n",
       "\n",
       "    .dataframe tbody tr th {\n",
       "        vertical-align: top;\n",
       "    }\n",
       "\n",
       "    .dataframe thead th {\n",
       "        text-align: right;\n",
       "    }\n",
       "</style>\n",
       "<table border=\"1\" class=\"dataframe\">\n",
       "  <thead>\n",
       "    <tr style=\"text-align: right;\">\n",
       "      <th></th>\n",
       "      <th>steam_id</th>\n",
       "      <th>game_name</th>\n",
       "      <th>developer</th>\n",
       "      <th>publisher</th>\n",
       "      <th>genres</th>\n",
       "      <th>price</th>\n",
       "      <th>hours_played</th>\n",
       "    </tr>\n",
       "  </thead>\n",
       "  <tbody>\n",
       "    <tr>\n",
       "      <th>9</th>\n",
       "      <td>151603712</td>\n",
       "      <td>Team Fortress 2</td>\n",
       "      <td>Valve</td>\n",
       "      <td>Valve</td>\n",
       "      <td>Action;Free to Play</td>\n",
       "      <td>0.0</td>\n",
       "      <td>2.8</td>\n",
       "    </tr>\n",
       "    <tr>\n",
       "      <th>62</th>\n",
       "      <td>59945701</td>\n",
       "      <td>Team Fortress 2</td>\n",
       "      <td>Valve</td>\n",
       "      <td>Valve</td>\n",
       "      <td>Action;Free to Play</td>\n",
       "      <td>0.0</td>\n",
       "      <td>0.1</td>\n",
       "    </tr>\n",
       "    <tr>\n",
       "      <th>590</th>\n",
       "      <td>140954425</td>\n",
       "      <td>Team Fortress 2</td>\n",
       "      <td>Valve</td>\n",
       "      <td>Valve</td>\n",
       "      <td>Action;Free to Play</td>\n",
       "      <td>0.0</td>\n",
       "      <td>13.0</td>\n",
       "    </tr>\n",
       "    <tr>\n",
       "      <th>603</th>\n",
       "      <td>150128162</td>\n",
       "      <td>Team Fortress 2</td>\n",
       "      <td>Valve</td>\n",
       "      <td>Valve</td>\n",
       "      <td>Action;Free to Play</td>\n",
       "      <td>0.0</td>\n",
       "      <td>42.0</td>\n",
       "    </tr>\n",
       "    <tr>\n",
       "      <th>607</th>\n",
       "      <td>297811211</td>\n",
       "      <td>Team Fortress 2</td>\n",
       "      <td>Valve</td>\n",
       "      <td>Valve</td>\n",
       "      <td>Action;Free to Play</td>\n",
       "      <td>0.0</td>\n",
       "      <td>10.1</td>\n",
       "    </tr>\n",
       "  </tbody>\n",
       "</table>\n",
       "</div>"
      ],
      "text/plain": [
       "      steam_id        game_name developer publisher               genres  \\\n",
       "9    151603712  Team Fortress 2     Valve     Valve  Action;Free to Play   \n",
       "62    59945701  Team Fortress 2     Valve     Valve  Action;Free to Play   \n",
       "590  140954425  Team Fortress 2     Valve     Valve  Action;Free to Play   \n",
       "603  150128162  Team Fortress 2     Valve     Valve  Action;Free to Play   \n",
       "607  297811211  Team Fortress 2     Valve     Valve  Action;Free to Play   \n",
       "\n",
       "     price  hours_played  \n",
       "9      0.0           2.8  \n",
       "62     0.0           0.1  \n",
       "590    0.0          13.0  \n",
       "603    0.0          42.0  \n",
       "607    0.0          10.1  "
      ]
     },
     "execution_count": 17,
     "metadata": {},
     "output_type": "execute_result"
    }
   ],
   "source": [
    "#   Create query to select the people based on the game\n",
    "df_temp_game_players = df_def.loc[df_def['game_name'] == 'Team Fortress 2']    #   Just change 'Team Fortress 2' for the name of the game to be searched\n",
    "df_temp_game_players.head()"
   ]
  },
  {
   "cell_type": "code",
   "execution_count": 18,
   "metadata": {},
   "outputs": [
    {
     "data": {
      "text/plain": [
       "2323"
      ]
     },
     "execution_count": 18,
     "metadata": {},
     "output_type": "execute_result"
    }
   ],
   "source": [
    "\n",
    "df_temp_game_players['steam_id'].count()    #   To get the total of players of that game"
   ]
  },
  {
   "cell_type": "code",
   "execution_count": 19,
   "metadata": {},
   "outputs": [
    {
     "data": {
      "text/plain": [
       "173673.30000000002"
      ]
     },
     "execution_count": 19,
     "metadata": {},
     "output_type": "execute_result"
    }
   ],
   "source": [
    "\n",
    "df_temp_game_players['hours_played'].sum()    #   To get the total of hours that game has been played"
   ]
  },
  {
   "cell_type": "markdown",
   "metadata": {},
   "source": [
    "### Most popular genres"
   ]
  },
  {
   "cell_type": "markdown",
   "metadata": {},
   "source": [
    "Here we will separate the dataset based on the genres and get the amount of players and games each one has.\n",
    "Also, we will create another dataset with the most popular genres for an important consult we will do later."
   ]
  },
  {
   "cell_type": "code",
   "execution_count": 20,
   "metadata": {},
   "outputs": [
    {
     "data": {
      "text/plain": [
       "0                            Action\n",
       "72              Action;Free to Play\n",
       "93     Action;Free to Play;Strategy\n",
       "1                  Action;Adventure\n",
       "272                             RPG\n",
       "Name: genres, dtype: object"
      ]
     },
     "execution_count": 20,
     "metadata": {},
     "output_type": "execute_result"
    }
   ],
   "source": [
    "#   Get the most popular genres\n",
    "\n",
    "df_genres = df_def.iloc[:, 0:-1]\n",
    "\n",
    "df_genres = df_genres.groupby(['genres'], as_index=False).count().sort_values(by='steam_id', ascending=False ).drop([\n",
    "    'developer', 'publisher', 'price'], axis=1)\n",
    "\n",
    "df_genres = df_genres.rename(columns={'steam_id': 'total_players', 'game_name': 'total_games'})\n",
    "\n",
    "top_genres = df_genres['genres'].head(50)\n",
    "top_genres.head()"
   ]
  },
  {
   "cell_type": "markdown",
   "metadata": {},
   "source": [
    "###   Question 5\n",
    "\n",
    "   Pick two different types<br>\n",
    "\n",
    "   The first variable I choose is 'hours_played' which is a quantitative and continuous variable<br>\n",
    "\n",
    "   A. Get the central tendency measures:<br>\n",
    "    - Mean = 669.687352 <br>\n",
    "    - Median = 3.9<br>\n",
    "    - Mode = 0.2<br>\n",
    "\n",
    "On the code below, you will find how I manage to retrieve those values."
   ]
  },
  {
   "cell_type": "code",
   "execution_count": 21,
   "metadata": {},
   "outputs": [
    {
     "data": {
      "text/html": [
       "<div>\n",
       "<style scoped>\n",
       "    .dataframe tbody tr th:only-of-type {\n",
       "        vertical-align: middle;\n",
       "    }\n",
       "\n",
       "    .dataframe tbody tr th {\n",
       "        vertical-align: top;\n",
       "    }\n",
       "\n",
       "    .dataframe thead th {\n",
       "        text-align: right;\n",
       "    }\n",
       "</style>\n",
       "<table border=\"1\" class=\"dataframe\">\n",
       "  <thead>\n",
       "    <tr style=\"text-align: right;\">\n",
       "      <th></th>\n",
       "      <th>total_players</th>\n",
       "      <th>hours_played</th>\n",
       "    </tr>\n",
       "  </thead>\n",
       "  <tbody>\n",
       "    <tr>\n",
       "      <th>count</th>\n",
       "      <td>5155.000000</td>\n",
       "      <td>5155.000000</td>\n",
       "    </tr>\n",
       "    <tr>\n",
       "      <th>mean</th>\n",
       "      <td>25.141998</td>\n",
       "      <td>669.703996</td>\n",
       "    </tr>\n",
       "    <tr>\n",
       "      <th>std</th>\n",
       "      <td>101.583419</td>\n",
       "      <td>14990.387764</td>\n",
       "    </tr>\n",
       "    <tr>\n",
       "      <th>min</th>\n",
       "      <td>1.000000</td>\n",
       "      <td>0.000000</td>\n",
       "    </tr>\n",
       "    <tr>\n",
       "      <th>25%</th>\n",
       "      <td>2.000000</td>\n",
       "      <td>0.000000</td>\n",
       "    </tr>\n",
       "    <tr>\n",
       "      <th>50%</th>\n",
       "      <td>5.000000</td>\n",
       "      <td>3.900000</td>\n",
       "    </tr>\n",
       "    <tr>\n",
       "      <th>75%</th>\n",
       "      <td>18.000000</td>\n",
       "      <td>37.900000</td>\n",
       "    </tr>\n",
       "    <tr>\n",
       "      <th>max</th>\n",
       "      <td>4841.000000</td>\n",
       "      <td>981684.600000</td>\n",
       "    </tr>\n",
       "  </tbody>\n",
       "</table>\n",
       "</div>"
      ],
      "text/plain": [
       "       total_players   hours_played\n",
       "count    5155.000000    5155.000000\n",
       "mean       25.141998     669.703996\n",
       "std       101.583419   14990.387764\n",
       "min         1.000000       0.000000\n",
       "25%         2.000000       0.000000\n",
       "50%         5.000000       3.900000\n",
       "75%        18.000000      37.900000\n",
       "max      4841.000000  981684.600000"
      ]
     },
     "execution_count": 21,
     "metadata": {},
     "output_type": "execute_result"
    }
   ],
   "source": [
    "# Getting the mean\n",
    "\n",
    "df_total.describe() "
   ]
  },
  {
   "cell_type": "code",
   "execution_count": 22,
   "metadata": {},
   "outputs": [
    {
     "data": {
      "text/plain": [
       "total_players    5.0\n",
       "hours_played     3.9\n",
       "dtype: float64"
      ]
     },
     "execution_count": 22,
     "metadata": {},
     "output_type": "execute_result"
    }
   ],
   "source": [
    "# Getting the median amount of hours\n",
    "\n",
    "df_total.median() "
   ]
  },
  {
   "cell_type": "markdown",
   "metadata": {},
   "source": [
    "Here we can see that I do not delete the games that have never been played, the mode for 'total_players' and 'hours_played' is 1 and 0 respectively, this happens due to the fact that if we take a look in our database, <br>\n",
    "We can see that there are many games that owned by only one person and that many games never have been played.<br>\n",
    "Obs: This is a known fact in the gaming community and many people joke about the fact that they have games that they never played\n",
    "\n",
    "So, I decided to drop the games that have never been played. And the mode is 0.2 for the hours played.\n",
    "\n",
    "But, to get the real number, I will keep that line of code commented, just a nice feature that if needed, we can remove the comment and see the change in the outcome"
   ]
  },
  {
   "cell_type": "code",
   "execution_count": 23,
   "metadata": {},
   "outputs": [
    {
     "data": {
      "text/html": [
       "<div>\n",
       "<style scoped>\n",
       "    .dataframe tbody tr th:only-of-type {\n",
       "        vertical-align: middle;\n",
       "    }\n",
       "\n",
       "    .dataframe tbody tr th {\n",
       "        vertical-align: top;\n",
       "    }\n",
       "\n",
       "    .dataframe thead th {\n",
       "        text-align: right;\n",
       "    }\n",
       "</style>\n",
       "<table border=\"1\" class=\"dataframe\">\n",
       "  <thead>\n",
       "    <tr style=\"text-align: right;\">\n",
       "      <th></th>\n",
       "      <th>total_players</th>\n",
       "      <th>hours_played</th>\n",
       "    </tr>\n",
       "  </thead>\n",
       "  <tbody>\n",
       "    <tr>\n",
       "      <th>0</th>\n",
       "      <td>1</td>\n",
       "      <td>0.0</td>\n",
       "    </tr>\n",
       "  </tbody>\n",
       "</table>\n",
       "</div>"
      ],
      "text/plain": [
       "   total_players  hours_played\n",
       "0              1           0.0"
      ]
     },
     "execution_count": 23,
     "metadata": {},
     "output_type": "execute_result"
    }
   ],
   "source": [
    "df_temp = df_total.iloc[:,1:] # If I get the mode from 'df_total', all game names whill be shown, so I will get only the numeric columns\n",
    "\n",
    "#   On the line below, I removed all the games that have never been played, so we can have a different outcome. \n",
    "#   I will keep that line commented but if you remove the comment and execute the code again, you will see the difference in the mode. \n",
    "\n",
    "# df_temp = df_temp.drop(df_temp[df_temp.hours_played == 0].index) \n",
    "\n",
    "df_temp.mode() #   Getting the mode from total of hours played, here we can see that most players play a game for 0 hours"
   ]
  },
  {
   "cell_type": "markdown",
   "metadata": {},
   "source": [
    "   B. Get the measures of dispersion:<br>\n",
    "         - Range = 981684.49<br>\n",
    "         - Interquartile Range = 95.15<br>\n",
    "         - Variance =  3.21<br>\n",
    "         - Standard Deviation = 14990.38 -> Got this from the 'describe()' method, when we got the mean<br>\n",
    "\n",
    "On the code below, you will find how I manage to retrieve those values."
   ]
  },
  {
   "cell_type": "code",
   "execution_count": 24,
   "metadata": {},
   "outputs": [
    {
     "data": {
      "text/plain": [
       "981684.5999999989"
      ]
     },
     "execution_count": 24,
     "metadata": {},
     "output_type": "execute_result"
    }
   ],
   "source": [
    "#   Getting the range\n",
    "range = df_total['hours_played'].max() - df_total['hours_played'].min()\n",
    "range"
   ]
  },
  {
   "cell_type": "code",
   "execution_count": 25,
   "metadata": {},
   "outputs": [
    {
     "data": {
      "text/plain": [
       "37.900000000000006"
      ]
     },
     "execution_count": 25,
     "metadata": {},
     "output_type": "execute_result"
    }
   ],
   "source": [
    "#   Getting the Interquartile Range\n",
    "Q1 = df_total['hours_played'].quantile(0.25)\n",
    "Q3 = df_total['hours_played'].quantile(0.75)\n",
    "IQR = Q3 - Q1\n",
    "IQR"
   ]
  },
  {
   "cell_type": "code",
   "execution_count": 26,
   "metadata": {},
   "outputs": [
    {
     "data": {
      "text/plain": [
       "total_players    1.031919e+04\n",
       "hours_played     2.247117e+08\n",
       "dtype: float64"
      ]
     },
     "execution_count": 26,
     "metadata": {},
     "output_type": "execute_result"
    }
   ],
   "source": [
    "#   Getting the variance\n",
    "df_total.var()"
   ]
  },
  {
   "cell_type": "markdown",
   "metadata": {},
   "source": [
    "   C. Get the 5 number summary:<br>\n",
    "         - min(x) = 0<br>\n",
    "         - Q1 = 0<br>\n",
    "         - median =  3.9<br>\n",
    "         - Q3 = 37.9<br>\n",
    "         - max(x) = 981684.6<br>\n",
    "\n",
    "On the code below, you will find how I manage to retrieve those values."
   ]
  },
  {
   "cell_type": "code",
   "execution_count": 27,
   "metadata": {},
   "outputs": [
    {
     "data": {
      "text/html": [
       "<div>\n",
       "<style scoped>\n",
       "    .dataframe tbody tr th:only-of-type {\n",
       "        vertical-align: middle;\n",
       "    }\n",
       "\n",
       "    .dataframe tbody tr th {\n",
       "        vertical-align: top;\n",
       "    }\n",
       "\n",
       "    .dataframe thead th {\n",
       "        text-align: right;\n",
       "    }\n",
       "</style>\n",
       "<table border=\"1\" class=\"dataframe\">\n",
       "  <thead>\n",
       "    <tr style=\"text-align: right;\">\n",
       "      <th></th>\n",
       "      <th>total_players</th>\n",
       "      <th>hours_played</th>\n",
       "    </tr>\n",
       "  </thead>\n",
       "  <tbody>\n",
       "    <tr>\n",
       "      <th>count</th>\n",
       "      <td>5155.000000</td>\n",
       "      <td>5155.000000</td>\n",
       "    </tr>\n",
       "    <tr>\n",
       "      <th>mean</th>\n",
       "      <td>25.141998</td>\n",
       "      <td>669.703996</td>\n",
       "    </tr>\n",
       "    <tr>\n",
       "      <th>std</th>\n",
       "      <td>101.583419</td>\n",
       "      <td>14990.387764</td>\n",
       "    </tr>\n",
       "    <tr>\n",
       "      <th>min</th>\n",
       "      <td>1.000000</td>\n",
       "      <td>0.000000</td>\n",
       "    </tr>\n",
       "    <tr>\n",
       "      <th>25%</th>\n",
       "      <td>2.000000</td>\n",
       "      <td>0.000000</td>\n",
       "    </tr>\n",
       "    <tr>\n",
       "      <th>50%</th>\n",
       "      <td>5.000000</td>\n",
       "      <td>3.900000</td>\n",
       "    </tr>\n",
       "    <tr>\n",
       "      <th>75%</th>\n",
       "      <td>18.000000</td>\n",
       "      <td>37.900000</td>\n",
       "    </tr>\n",
       "    <tr>\n",
       "      <th>max</th>\n",
       "      <td>4841.000000</td>\n",
       "      <td>981684.600000</td>\n",
       "    </tr>\n",
       "  </tbody>\n",
       "</table>\n",
       "</div>"
      ],
      "text/plain": [
       "       total_players   hours_played\n",
       "count    5155.000000    5155.000000\n",
       "mean       25.141998     669.703996\n",
       "std       101.583419   14990.387764\n",
       "min         1.000000       0.000000\n",
       "25%         2.000000       0.000000\n",
       "50%         5.000000       3.900000\n",
       "75%        18.000000      37.900000\n",
       "max      4841.000000  981684.600000"
      ]
     },
     "execution_count": 27,
     "metadata": {},
     "output_type": "execute_result"
    }
   ],
   "source": [
    "#   The method 'describe()' gives us the 5 number summary\n",
    "df_total.describe()"
   ]
  },
  {
   "cell_type": "markdown",
   "metadata": {},
   "source": [
    "Since the instructions said that we needed to pick 2 different variables, I got a bit unsure about picking the qualitative variable, since we would be able to get only the mode of it and none of the other values requested such as mean, median, mode, quartiles and such.\n",
    "\n",
    "So, about the second variable, I decided to do 2 different things with 2 different variables.\n",
    "\n",
    "The first thing that I did, was to work with the variable 'genres', which is a qualitative categorical variable. As said previously, since it is not a numerical variable, we can only get the mode, which means, we will get the genre most mentioned, which also mean, most common.\n",
    "\n",
    "So, now using the list with the 50 most common genres previously created, we will eliminate the data from all the games that do not belong to the most popular genres.\n",
    "And by using the '.mode()', we will get which genre is the most popular among the games, which is \"Action\"."
   ]
  },
  {
   "cell_type": "code",
   "execution_count": 28,
   "metadata": {},
   "outputs": [
    {
     "data": {
      "text/plain": [
       "0    Action\n",
       "dtype: object"
      ]
     },
     "execution_count": 28,
     "metadata": {},
     "output_type": "execute_result"
    }
   ],
   "source": [
    "#   Getting the mode of the genre\n",
    "df_genres = df_def[df_def['genres'].isin(top_genres)]\n",
    "df_genres['genres'].mode()"
   ]
  },
  {
   "cell_type": "markdown",
   "metadata": {},
   "source": [
    "Then, the second thing I decided to do was to choose the variable 'steam_id', which is a numerical identifier, but through the use of feature engineering, I managed to get the amount of players per game and create variable 'total_players'. This way I was able to get all the statistical information required, just like it was done with the first variable 'hours_played'.\n",
    "\n",
    "To get meaningful information, I decided to get only the data related to the 50 games with most players."
   ]
  },
  {
   "cell_type": "code",
   "execution_count": 29,
   "metadata": {},
   "outputs": [
    {
     "data": {
      "text/html": [
       "<div>\n",
       "<style scoped>\n",
       "    .dataframe tbody tr th:only-of-type {\n",
       "        vertical-align: middle;\n",
       "    }\n",
       "\n",
       "    .dataframe tbody tr th {\n",
       "        vertical-align: top;\n",
       "    }\n",
       "\n",
       "    .dataframe thead th {\n",
       "        text-align: right;\n",
       "    }\n",
       "</style>\n",
       "<table border=\"1\" class=\"dataframe\">\n",
       "  <thead>\n",
       "    <tr style=\"text-align: right;\">\n",
       "      <th></th>\n",
       "      <th>game_name</th>\n",
       "      <th>total_players</th>\n",
       "      <th>hours_played</th>\n",
       "    </tr>\n",
       "  </thead>\n",
       "  <tbody>\n",
       "    <tr>\n",
       "      <th>0</th>\n",
       "      <td>Dota 2</td>\n",
       "      <td>4841</td>\n",
       "      <td>981684.6</td>\n",
       "    </tr>\n",
       "    <tr>\n",
       "      <th>1</th>\n",
       "      <td>Team Fortress 2</td>\n",
       "      <td>2323</td>\n",
       "      <td>173673.3</td>\n",
       "    </tr>\n",
       "    <tr>\n",
       "      <th>2</th>\n",
       "      <td>Unturned</td>\n",
       "      <td>1563</td>\n",
       "      <td>16096.4</td>\n",
       "    </tr>\n",
       "    <tr>\n",
       "      <th>3</th>\n",
       "      <td>Counter-Strike Global Offensive</td>\n",
       "      <td>1412</td>\n",
       "      <td>322771.6</td>\n",
       "    </tr>\n",
       "    <tr>\n",
       "      <th>4</th>\n",
       "      <td>Half-Life 2 Lost Coast</td>\n",
       "      <td>981</td>\n",
       "      <td>184.4</td>\n",
       "    </tr>\n",
       "  </tbody>\n",
       "</table>\n",
       "</div>"
      ],
      "text/plain": [
       "                         game_name  total_players  hours_played\n",
       "0                           Dota 2           4841      981684.6\n",
       "1                  Team Fortress 2           2323      173673.3\n",
       "2                         Unturned           1563       16096.4\n",
       "3  Counter-Strike Global Offensive           1412      322771.6\n",
       "4           Half-Life 2 Lost Coast            981         184.4"
      ]
     },
     "execution_count": 29,
     "metadata": {},
     "output_type": "execute_result"
    }
   ],
   "source": [
    "#   Getting the games based on which one has more players\n",
    "\n",
    "df_temp_2 = df_total.sort_values(by='total_players', ascending=False).iloc[:51]\n",
    "df_temp_2.head()"
   ]
  },
  {
   "cell_type": "markdown",
   "metadata": {},
   "source": [
    "   A.Get the central tendency measures:<br>\n",
    "         - Mean =  675.03<br>\n",
    "         - Median = 438.0<br>\n",
    "         - Mode = 343, 365, 366, 524, 679<br>\n",
    "\n",
    "On the code below, you will find how I manage to retrieve those values."
   ]
  },
  {
   "cell_type": "code",
   "execution_count": 30,
   "metadata": {},
   "outputs": [
    {
     "data": {
      "text/html": [
       "<div>\n",
       "<style scoped>\n",
       "    .dataframe tbody tr th:only-of-type {\n",
       "        vertical-align: middle;\n",
       "    }\n",
       "\n",
       "    .dataframe tbody tr th {\n",
       "        vertical-align: top;\n",
       "    }\n",
       "\n",
       "    .dataframe thead th {\n",
       "        text-align: right;\n",
       "    }\n",
       "</style>\n",
       "<table border=\"1\" class=\"dataframe\">\n",
       "  <thead>\n",
       "    <tr style=\"text-align: right;\">\n",
       "      <th></th>\n",
       "      <th>total_players</th>\n",
       "      <th>hours_played</th>\n",
       "    </tr>\n",
       "  </thead>\n",
       "  <tbody>\n",
       "    <tr>\n",
       "      <th>count</th>\n",
       "      <td>51.000000</td>\n",
       "      <td>51.000000</td>\n",
       "    </tr>\n",
       "    <tr>\n",
       "      <th>mean</th>\n",
       "      <td>675.039216</td>\n",
       "      <td>43945.870588</td>\n",
       "    </tr>\n",
       "    <tr>\n",
       "      <th>std</th>\n",
       "      <td>697.232442</td>\n",
       "      <td>144979.324391</td>\n",
       "    </tr>\n",
       "    <tr>\n",
       "      <th>min</th>\n",
       "      <td>323.000000</td>\n",
       "      <td>0.000000</td>\n",
       "    </tr>\n",
       "    <tr>\n",
       "      <th>25%</th>\n",
       "      <td>365.500000</td>\n",
       "      <td>982.000000</td>\n",
       "    </tr>\n",
       "    <tr>\n",
       "      <th>50%</th>\n",
       "      <td>438.000000</td>\n",
       "      <td>4260.300000</td>\n",
       "    </tr>\n",
       "    <tr>\n",
       "      <th>75%</th>\n",
       "      <td>684.000000</td>\n",
       "      <td>21140.850000</td>\n",
       "    </tr>\n",
       "    <tr>\n",
       "      <th>max</th>\n",
       "      <td>4841.000000</td>\n",
       "      <td>981684.600000</td>\n",
       "    </tr>\n",
       "  </tbody>\n",
       "</table>\n",
       "</div>"
      ],
      "text/plain": [
       "       total_players   hours_played\n",
       "count      51.000000      51.000000\n",
       "mean      675.039216   43945.870588\n",
       "std       697.232442  144979.324391\n",
       "min       323.000000       0.000000\n",
       "25%       365.500000     982.000000\n",
       "50%       438.000000    4260.300000\n",
       "75%       684.000000   21140.850000\n",
       "max      4841.000000  981684.600000"
      ]
     },
     "execution_count": 30,
     "metadata": {},
     "output_type": "execute_result"
    }
   ],
   "source": [
    "#   Getting the mean\n",
    "\n",
    "df_temp_2.describe()"
   ]
  },
  {
   "cell_type": "code",
   "execution_count": 31,
   "metadata": {},
   "outputs": [
    {
     "data": {
      "text/plain": [
       "total_players     438.0\n",
       "hours_played     4260.3\n",
       "dtype: float64"
      ]
     },
     "execution_count": 31,
     "metadata": {},
     "output_type": "execute_result"
    }
   ],
   "source": [
    "#   Getting the median\n",
    "\n",
    "df_temp_2.median()"
   ]
  },
  {
   "cell_type": "code",
   "execution_count": 32,
   "metadata": {},
   "outputs": [
    {
     "data": {
      "text/plain": [
       "0    343\n",
       "1    365\n",
       "2    366\n",
       "3    524\n",
       "4    679\n",
       "dtype: int64"
      ]
     },
     "execution_count": 32,
     "metadata": {},
     "output_type": "execute_result"
    }
   ],
   "source": [
    "#   Getting the modes\n",
    "df_temp_2['total_players'].mode()"
   ]
  },
  {
   "cell_type": "markdown",
   "metadata": {},
   "source": [
    "   B.Get the measures of dispersion:<br>\n",
    "         - Range = 4518<br>\n",
    "         - Interquartile Range = 318.5<br>\n",
    "         - Variance =  4.86<br>\n",
    "         - Standard Deviation = 697.23<br>"
   ]
  },
  {
   "cell_type": "code",
   "execution_count": 33,
   "metadata": {},
   "outputs": [
    {
     "data": {
      "text/plain": [
       "4518"
      ]
     },
     "execution_count": 33,
     "metadata": {},
     "output_type": "execute_result"
    }
   ],
   "source": [
    "#   Getting the range\n",
    "range = df_temp_2['total_players'].max() - df_temp_2['total_players'].min()\n",
    "range"
   ]
  },
  {
   "cell_type": "code",
   "execution_count": 34,
   "metadata": {},
   "outputs": [
    {
     "data": {
      "text/plain": [
       "318.5"
      ]
     },
     "execution_count": 34,
     "metadata": {},
     "output_type": "execute_result"
    }
   ],
   "source": [
    "#   Getting the Interquartile Range\n",
    "Q1_var2 = df_temp_2['total_players'].quantile(0.25)\n",
    "Q3_var2 = df_temp_2['total_players'].quantile(0.75)\n",
    "IQR_var2 = Q3_var2 - Q1_var2\n",
    "IQR_var2"
   ]
  },
  {
   "cell_type": "code",
   "execution_count": 35,
   "metadata": {},
   "outputs": [
    {
     "data": {
      "text/plain": [
       "total_players    4.861331e+05\n",
       "hours_played     2.101900e+10\n",
       "dtype: float64"
      ]
     },
     "execution_count": 35,
     "metadata": {},
     "output_type": "execute_result"
    }
   ],
   "source": [
    "#   Getting the variance\n",
    "df_temp_2.var()"
   ]
  },
  {
   "cell_type": "code",
   "execution_count": 36,
   "metadata": {},
   "outputs": [
    {
     "data": {
      "text/html": [
       "<div>\n",
       "<style scoped>\n",
       "    .dataframe tbody tr th:only-of-type {\n",
       "        vertical-align: middle;\n",
       "    }\n",
       "\n",
       "    .dataframe tbody tr th {\n",
       "        vertical-align: top;\n",
       "    }\n",
       "\n",
       "    .dataframe thead th {\n",
       "        text-align: right;\n",
       "    }\n",
       "</style>\n",
       "<table border=\"1\" class=\"dataframe\">\n",
       "  <thead>\n",
       "    <tr style=\"text-align: right;\">\n",
       "      <th></th>\n",
       "      <th>total_players</th>\n",
       "      <th>hours_played</th>\n",
       "    </tr>\n",
       "  </thead>\n",
       "  <tbody>\n",
       "    <tr>\n",
       "      <th>count</th>\n",
       "      <td>51.000000</td>\n",
       "      <td>51.000000</td>\n",
       "    </tr>\n",
       "    <tr>\n",
       "      <th>mean</th>\n",
       "      <td>675.039216</td>\n",
       "      <td>43945.870588</td>\n",
       "    </tr>\n",
       "    <tr>\n",
       "      <th>std</th>\n",
       "      <td>697.232442</td>\n",
       "      <td>144979.324391</td>\n",
       "    </tr>\n",
       "    <tr>\n",
       "      <th>min</th>\n",
       "      <td>323.000000</td>\n",
       "      <td>0.000000</td>\n",
       "    </tr>\n",
       "    <tr>\n",
       "      <th>25%</th>\n",
       "      <td>365.500000</td>\n",
       "      <td>982.000000</td>\n",
       "    </tr>\n",
       "    <tr>\n",
       "      <th>50%</th>\n",
       "      <td>438.000000</td>\n",
       "      <td>4260.300000</td>\n",
       "    </tr>\n",
       "    <tr>\n",
       "      <th>75%</th>\n",
       "      <td>684.000000</td>\n",
       "      <td>21140.850000</td>\n",
       "    </tr>\n",
       "    <tr>\n",
       "      <th>max</th>\n",
       "      <td>4841.000000</td>\n",
       "      <td>981684.600000</td>\n",
       "    </tr>\n",
       "  </tbody>\n",
       "</table>\n",
       "</div>"
      ],
      "text/plain": [
       "       total_players   hours_played\n",
       "count      51.000000      51.000000\n",
       "mean      675.039216   43945.870588\n",
       "std       697.232442  144979.324391\n",
       "min       323.000000       0.000000\n",
       "25%       365.500000     982.000000\n",
       "50%       438.000000    4260.300000\n",
       "75%       684.000000   21140.850000\n",
       "max      4841.000000  981684.600000"
      ]
     },
     "execution_count": 36,
     "metadata": {},
     "output_type": "execute_result"
    }
   ],
   "source": [
    "#   Getting the standard deviation\n",
    "df_temp_2.describe()"
   ]
  },
  {
   "cell_type": "markdown",
   "metadata": {},
   "source": [
    "   C. Get the 5 number summary:<br>\n",
    "         - min(x) = 323<br>\n",
    "         - Q1 = 365.50<br>\n",
    "         - median = 438<br>\n",
    "         - Q3 = 684<br>\n",
    "         - max(x) = 4841<br>"
   ]
  },
  {
   "cell_type": "code",
   "execution_count": 37,
   "metadata": {},
   "outputs": [
    {
     "data": {
      "text/html": [
       "<div>\n",
       "<style scoped>\n",
       "    .dataframe tbody tr th:only-of-type {\n",
       "        vertical-align: middle;\n",
       "    }\n",
       "\n",
       "    .dataframe tbody tr th {\n",
       "        vertical-align: top;\n",
       "    }\n",
       "\n",
       "    .dataframe thead th {\n",
       "        text-align: right;\n",
       "    }\n",
       "</style>\n",
       "<table border=\"1\" class=\"dataframe\">\n",
       "  <thead>\n",
       "    <tr style=\"text-align: right;\">\n",
       "      <th></th>\n",
       "      <th>total_players</th>\n",
       "      <th>hours_played</th>\n",
       "    </tr>\n",
       "  </thead>\n",
       "  <tbody>\n",
       "    <tr>\n",
       "      <th>count</th>\n",
       "      <td>51.000000</td>\n",
       "      <td>51.000000</td>\n",
       "    </tr>\n",
       "    <tr>\n",
       "      <th>mean</th>\n",
       "      <td>675.039216</td>\n",
       "      <td>43945.870588</td>\n",
       "    </tr>\n",
       "    <tr>\n",
       "      <th>std</th>\n",
       "      <td>697.232442</td>\n",
       "      <td>144979.324391</td>\n",
       "    </tr>\n",
       "    <tr>\n",
       "      <th>min</th>\n",
       "      <td>323.000000</td>\n",
       "      <td>0.000000</td>\n",
       "    </tr>\n",
       "    <tr>\n",
       "      <th>25%</th>\n",
       "      <td>365.500000</td>\n",
       "      <td>982.000000</td>\n",
       "    </tr>\n",
       "    <tr>\n",
       "      <th>50%</th>\n",
       "      <td>438.000000</td>\n",
       "      <td>4260.300000</td>\n",
       "    </tr>\n",
       "    <tr>\n",
       "      <th>75%</th>\n",
       "      <td>684.000000</td>\n",
       "      <td>21140.850000</td>\n",
       "    </tr>\n",
       "    <tr>\n",
       "      <th>max</th>\n",
       "      <td>4841.000000</td>\n",
       "      <td>981684.600000</td>\n",
       "    </tr>\n",
       "  </tbody>\n",
       "</table>\n",
       "</div>"
      ],
      "text/plain": [
       "       total_players   hours_played\n",
       "count      51.000000      51.000000\n",
       "mean      675.039216   43945.870588\n",
       "std       697.232442  144979.324391\n",
       "min       323.000000       0.000000\n",
       "25%       365.500000     982.000000\n",
       "50%       438.000000    4260.300000\n",
       "75%       684.000000   21140.850000\n",
       "max      4841.000000  981684.600000"
      ]
     },
     "execution_count": 37,
     "metadata": {},
     "output_type": "execute_result"
    }
   ],
   "source": [
    "#   The 'describe()' method gives us the 5 number summary\n",
    "df_temp_2.describe()"
   ]
  },
  {
   "cell_type": "markdown",
   "metadata": {},
   "source": [
    "### Question 6\n",
    "Using appropriate graphics, plot the 2 variables picked in 6 to get a better idea of its dispersion."
   ]
  },
  {
   "cell_type": "code",
   "execution_count": 38,
   "metadata": {},
   "outputs": [
    {
     "data": {
      "text/plain": [
       "<AxesSubplot:xlabel='total_players'>"
      ]
     },
     "execution_count": 38,
     "metadata": {},
     "output_type": "execute_result"
    },
    {
     "data": {
      "image/png": "[encoded data removed]",
      "text/plain": [
       "<Figure size 432x288 with 1 Axes>"
      ]
     },
     "metadata": {
      "needs_background": "light"
     },
     "output_type": "display_data"
    }
   ],
   "source": [
    "sns.boxplot(x=df_temp_2['total_players'])"
   ]
  },
  {
   "cell_type": "code",
   "execution_count": 39,
   "metadata": {},
   "outputs": [
    {
     "data": {
      "text/plain": [
       "<AxesSubplot:>"
      ]
     },
     "execution_count": 39,
     "metadata": {},
     "output_type": "execute_result"
    },
    {
     "data": {
      "image/png": "[encoded data removed]",
      "text/plain": [
       "<Figure size 432x288 with 1 Axes>"
      ]
     },
     "metadata": {
      "needs_background": "light"
     },
     "output_type": "display_data"
    }
   ],
   "source": [
    "df_temp_2['total_players'].hist()"
   ]
  },
  {
   "cell_type": "markdown",
   "metadata": {},
   "source": [
    "The graphic above is a boxplot of the regular amount of players per game. We can see that there are a few outliers with more than a thousand players, but most games do not have such a huge player base."
   ]
  },
  {
   "cell_type": "code",
   "execution_count": 40,
   "metadata": {},
   "outputs": [
    {
     "data": {
      "text/plain": [
       "<AxesSubplot:>"
      ]
     },
     "execution_count": 40,
     "metadata": {},
     "output_type": "execute_result"
    },
    {
     "data": {
      "image/png": "[encoded data removed]",
      "text/plain": [
       "<Figure size 432x288 with 1 Axes>"
      ]
     },
     "metadata": {
      "needs_background": "light"
     },
     "output_type": "display_data"
    }
   ],
   "source": [
    "top5_genres = top_genres.head(5)\n",
    "\n",
    "df_5genres = df_def[df_def['genres'].isin(top5_genres)]\n",
    "\n",
    "df_5genres['genres'].hist()"
   ]
  },
  {
   "cell_type": "markdown",
   "metadata": {},
   "source": [
    "The histogram above contains the top 5 most common games based on players. Here we can see that \"Action\" has around 14000 players. In second place we can see \"Action;Free to Play\"."
   ]
  },
  {
   "cell_type": "code",
   "execution_count": 41,
   "metadata": {},
   "outputs": [
    {
     "data": {
      "text/plain": [
       "<AxesSubplot:xlabel='hours_played'>"
      ]
     },
     "execution_count": 41,
     "metadata": {},
     "output_type": "execute_result"
    },
    {
     "data": {
      "image/png": "[encoded data removed]",
      "text/plain": [
       "<Figure size 432x288 with 1 Axes>"
      ]
     },
     "metadata": {
      "needs_background": "light"
     },
     "output_type": "display_data"
    }
   ],
   "source": [
    "sns.boxplot(x=df_temp['hours_played'])"
   ]
  },
  {
   "cell_type": "code",
   "execution_count": 42,
   "metadata": {},
   "outputs": [
    {
     "data": {
      "text/plain": [
       "<AxesSubplot:>"
      ]
     },
     "execution_count": 42,
     "metadata": {},
     "output_type": "execute_result"
    },
    {
     "data": {
      "image/png": "[encoded data removed]",
      "text/plain": [
       "<Figure size 432x288 with 1 Axes>"
      ]
     },
     "metadata": {
      "needs_background": "light"
     },
     "output_type": "display_data"
    }
   ],
   "source": [
    "df_temp['hours_played'].hist()"
   ]
  },
  {
   "cell_type": "markdown",
   "metadata": {},
   "source": [
    "In the boxplot above based on the amount of hours, we can also see that even though some games are played extensively, most games in steam are not even played."
   ]
  },
  {
   "cell_type": "markdown",
   "metadata": {},
   "source": [
    "To facilitate the understanding of the graphs below, I just used the 50 first rows to illustrate the games with the biggest amount of players and hours."
   ]
  },
  {
   "cell_type": "code",
   "execution_count": 43,
   "metadata": {},
   "outputs": [
    {
     "data": {
      "text/plain": [
       "Text(0.5, 0, 'Games')"
      ]
     },
     "execution_count": 43,
     "metadata": {},
     "output_type": "execute_result"
    },
    {
     "data": {
      "image/png": "[encoded data removed]",
      "text/plain": [
       "<Figure size 432x288 with 1 Axes>"
      ]
     },
     "metadata": {
      "needs_background": "light"
     },
     "output_type": "display_data"
    }
   ],
   "source": [
    "#   To facilitate the creation of the graphs, I just use the 50 first rows to illustrate the games with the biggest amount of players and hours\n",
    "\n",
    "df_graphs = df_total.sort_values(by='total_players', ascending=False).iloc[:50]\n",
    "df_graphs_2 = df_total.sort_values(by='hours_played', ascending=False).iloc[:50]\n",
    "\n",
    "df_graphs.plot(kind='bar', x='game_name', y='total_players')\n",
    "\n",
    "plt.title(\"Amount of players per game\")\n",
    "plt.ylabel(\"Amount of players\")\n",
    "plt.xlabel(\"Games\")"
   ]
  },
  {
   "cell_type": "code",
   "execution_count": 44,
   "metadata": {},
   "outputs": [
    {
     "data": {
      "text/plain": [
       "Text(0.5, 0, 'Hours')"
      ]
     },
     "execution_count": 44,
     "metadata": {},
     "output_type": "execute_result"
    },
    {
     "data": {
      "image/png": "[encoded data removed]",
      "text/plain": [
       "<Figure size 432x288 with 1 Axes>"
      ]
     },
     "metadata": {
      "needs_background": "light"
     },
     "output_type": "display_data"
    }
   ],
   "source": [
    "df_graphs_2.plot(kind='bar', x='game_name', y='hours_played')\n",
    "\n",
    "plt.title(\"Hours per game\")\n",
    "plt.ylabel(\"Games\")\n",
    "plt.xlabel(\"Hours\")"
   ]
  },
  {
   "cell_type": "markdown",
   "metadata": {},
   "source": [
    "### Question 7\n",
    "Do the variables picked in 6, follow a symmetric distribution?<br>\n",
    "\n",
    "A: No, they don't. I could have removed the games that have the big amounts of players and time, but unlike the games that have not enough hours and are not important, those games are important to hour analysis, since they represent the biggest commercial success.\n",
    "\n",
    "About their distribution, for the variables “total_players” and “hours_played”, by executing the commands\n",
    "“.skew()” and “.kurt()”, we can see that their skewedness is 25.83 and 56.91 respectivaly, which means that \n",
    "since they are above 0, they are right-skewed and that makes total sense when we see the boxplots and \n",
    "histograms shown on the question 6, and their kurtosis 1057.46 and 3606.89 respectivaly, which is higher \n",
    "than 3, meaning that we have a leptokurtic distribution in both variables."
   ]
  },
  {
   "cell_type": "code",
   "execution_count": 45,
   "metadata": {},
   "outputs": [
    {
     "data": {
      "text/plain": [
       "total_players    25.831113\n",
       "hours_played     56.917490\n",
       "dtype: float64"
      ]
     },
     "execution_count": 45,
     "metadata": {},
     "output_type": "execute_result"
    }
   ],
   "source": [
    "df_total.skew()"
   ]
  },
  {
   "cell_type": "code",
   "execution_count": 46,
   "metadata": {},
   "outputs": [
    {
     "data": {
      "text/plain": [
       "total_players    1057.466380\n",
       "hours_played     3606.893718\n",
       "dtype: float64"
      ]
     },
     "execution_count": 46,
     "metadata": {},
     "output_type": "execute_result"
    }
   ],
   "source": [
    "df_total.kurt()"
   ]
  },
  {
   "cell_type": "markdown",
   "metadata": {},
   "source": [
    "### Question 8\n",
    "\n",
    "Do the variables picked in 6 have any missing values? Do they have any outliers? Justify your answer.\n",
    "\n",
    "A The dataset that I got had duplicated and wrong data, where if a game was purchased, he would have 1 \n",
    "entry stating that he was played for half and hour and if it was played, there would be another entry for the \n",
    "amount of hours played and also, many games did not have information such as “developer”, ”publisher”\n",
    "and etc.<br>\n",
    "I had to remodel the dataset to avoid those duplicated entries and create a single entry for every game that \n",
    "the player owned and put the right amount of played hours. In case he just owned the game, there would \n",
    "be 0 hours.<br>\n",
    "This later showed that many games were just bought and never played, with many zeros which in one hand \n",
    "can be considered outliers or since they are the most expressive number, they might be considered part of \n",
    "the important data. On the other hand, 'Dota 2' showed a huge player base and amount of hours and even \n",
    "though it might be considered an outlier as well, it seems as a representation of its importance in the \n",
    "gaming industry which cannot be ignored. Even though some entries did not have information such as \n",
    "developer and platform, we had all the variables we needed and just needed to clean them and we have \n",
    "outliers, but they cannot be ignored because they also show us important data and meaningful insight \n",
    "about the gaming industry"
   ]
  },
  {
   "cell_type": "markdown",
   "metadata": {},
   "source": [
    "#   Conclusion\n",
    "\n",
    "This assignment was a really nice way to exercise my python skills with a subject that I am attracted to.<br>\n",
    "The outcome was something that even though I already knew, I was not expecting, which is the fact that \n",
    "'Dota 2' is one of the most important and popular games and with it, as mentioned during the assignment, \n",
    "the fact that many of steam users have games that they never played. <br>\n",
    "As said previously, this is a known fact, but I never imagined that it was such an expressive number, since as \n",
    "shown before, when we gathered the mode of 'hours_played' with games that never have been played we \n",
    "got only the number 0, which means that most games have never been played. This is an interesting fact \n",
    "and might provide some interesting insight about how Valve sees the usage of its platform."
   ]
  },
  {
   "cell_type": "markdown",
   "metadata": {},
   "source": []
  }
 ],
 "metadata": {
  "kernelspec": {
   "display_name": "Python 3.8.8 ('base')",
   "language": "python",
   "name": "python3"
  },
  "language_info": {
   "codemirror_mode": {
    "name": "ipython",
    "version": 3
   },
   "file_extension": ".py",
   "mimetype": "text/x-python",
   "name": "python",
   "nbconvert_exporter": "python",
   "pygments_lexer": "ipython3",
   "version": "3.8.8"
  },
  "orig_nbformat": 4,
  "vscode": {
   "interpreter": {
    "hash": "ad2bdc8ecc057115af97d19610ffacc2b4e99fae6737bb82f5d7fb13d2f2c186"
   }
  }
 },
 "nbformat": 4,
 "nbformat_minor": 2
}
